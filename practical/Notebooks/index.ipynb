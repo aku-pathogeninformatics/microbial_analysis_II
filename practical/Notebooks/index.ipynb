{
 "cells": [
  {
   "cell_type": "markdown",
   "metadata": {},
   "source": [
    "# Pangenome Construction using Roary\n",
    "\n",
    "## Introduction\n",
    "Given a set of genomes, the pan genome is the collection of all genes the set contains. Roary, the pan genome pipeline, takes closely related annotated genomes in GFF3 file format and calculates the pan genome.\n",
    "\n",
    "For more in depth information about Roary, please feel free to have a look the Roary paper included on the VM:\n",
    "\n",
    "> **Roary: Rapid large-scale prokaryote pan genome analysis**  \n",
    "> Andrew J. Page, Carla A. Cummins, Martin Hunt, Vanessa K. Wong, Sandra Reuter, Matthew T. G. Holden, Maria Fookes, Daniel Falush, Jacqueline A. Keane, Julian Parkhill  \n",
    "> _Bioinformatics, 2015;31(22):3691-3693 doi:[10.1093/bioinformatics/btv421](http://bioinformatics.oxfordjournals.org/content/31/22/3691)_\n",
    "\n",
    "A copy of the paper can be found at \n",
    "\n",
    "`/home/course_data/microbial_analysis_II/roary_paper.pdf`\n",
    "\n",
    "Or visit the [Roary manual at http://sanger-pathogens.github.io/Roary/](http://sanger-pathogens.github.io/Roary/).\n",
    "\n",
    "## Learning outcomes\n",
    "By the end of this tutorial you can expect to be able to:\n",
    "\n",
    "* Describe what a pangenome is\n",
    "* Prepare data for input to Roary\n",
    "* Run Roary to create a pangenome \n",
    "* Understand the different output files produced by Roary\n",
    "* Draw a basic tree from the core gene alignment produced by Roary\n",
    "* Query the pangenome results produced by Roary\n",
    "* Use Phandango to visualise the results produced by Roary\n",
    "* Generate a genome assembly\n",
    "\n",
    "## Tutorial sections\n",
    "This tutorial comprises the following sections:   \n",
    " 1. [What is a pan genome](pan_genome.ipynb)   \n",
    " 2. [Preparing the input data](prepare_data.ipynb)   \n",
    " 3. [Performing QC on your data](qc.ipynb)   \n",
    " 4. [Running Roary](run_roary.ipynb)   \n",
    " 5. [Exploring the results](results.ipynb)   \n",
    " 6. [Visualising the results with Phandango](phandango.ipynb)\n",
    " 7. [Creating genome assemblies](assembly.ipynb)   \n",
    "\n",
    "\n",
    "## Authors\n",
    "This tutorial was created by [Sara Sjunnebo](https://github.com/ssjunnebo) and [Jacqui Keane](https://github.com/ssjunnebo)."
   ]
  },
  {
   "cell_type": "markdown",
   "metadata": {},
   "source": [
    "### Running commands in this tutorial\n",
    "You can follow this tutorial by typing all the commands you see into a terminal window. This is similar to the \"Command Prompt\" window on MS Windows systems, which allows the user to type DOS commands to manage files.\n",
    "\n",
    "To get started, open a new terminal on your computer and type the command below:"
   ]
  },
  {
   "cell_type": "code",
   "execution_count": null,
   "metadata": {},
   "outputs": [],
   "source": [
    "cd ~/course_data/microbial_analysis_II/data"
   ]
  },
  {
   "cell_type": "markdown",
   "metadata": {},
   "source": [
    "Now you can follow the instructions in the tutorial from here.\n",
    "\n",
    "## Let’s get started!\n",
    "This tutorial requires that you have Prokka, Roary and FastTree installed on your computer. You will also need `spades` and `assembly-stats` installed. They have already been installed on the virtual machine you are using for this training course. To activate the environment and check that the software is installed correctly, run the following command:"
   ]
  },
  {
   "cell_type": "code",
   "execution_count": null,
   "metadata": {},
   "outputs": [],
   "source": [
    "conda activate microbial-analysis-II\n",
    "prokka --help\n",
    "roary --help\n",
    "fasttree -h\n",
    "spades.py -h\n",
    "assembly-stats"
   ]
  },
  {
   "cell_type": "markdown",
   "metadata": {},
   "source": [
    "This should return the help messages for all the software tools you will use in this tutorial."
   ]
  },
  {
   "cell_type": "markdown",
   "metadata": {},
   "source": [
    "For more information on these tools, please see:\n",
    "\n",
    "* The [Roary GitHub page (https://github.com/sanger-pathogens/roary)](https://github.com/sanger-pathogens/roary)\n",
    "* The [Prokka GitHub page (https://github.com/tseemann/prokka)](https://github.com/tseemann/prokka) \n",
    "* The [FastTree webpage (http://www.microbesonline.org/fasttree/)](http://www.microbesonline.org/fasttree/)\n",
    "* The [SPAdes GitHub page (https://github.com/ablab/spades)](https://github.com/ablab/spades)"
   ]
  },
  {
   "cell_type": "markdown",
   "metadata": {},
   "source": [
    "To get started with the tutorial, go to the first section: [What is a pangenome?](pan_genome.ipynb)  "
   ]
  }
 ],
 "metadata": {
  "kernelspec": {
   "display_name": "Bash",
   "language": "bash",
   "name": "bash"
  },
  "language_info": {
   "codemirror_mode": "shell",
   "file_extension": ".sh",
   "mimetype": "text/x-sh",
   "name": "bash"
  }
 },
 "nbformat": 4,
 "nbformat_minor": 2
}
