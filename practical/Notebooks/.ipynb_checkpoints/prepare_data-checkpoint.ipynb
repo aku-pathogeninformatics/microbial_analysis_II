{
 "cells": [
  {
   "cell_type": "markdown",
   "metadata": {},
   "source": [
    "# Preparing the data\n",
    "\n",
    "In this tutorial we have included three assemblies of _Streptococcus pneumoniae_. The data and assemblies are available for download from the ENA and the accession numbers for the assemblies and the raw data are included below.\n",
    "\n",
    "|Name    |Genome Accession |Data Accession|\n",
    "|--------|---------        |--------------|\n",
    "|sample1 |GCA_900194945.1  |ERR657006     |\n",
    "|sample2 |GCA_900194155.1  |ERR657305     |\n",
    "|sample3 |GCA_900194195.1  |ERR657310     |\n",
    "\n",
    "## Roary input files\n",
    "Roary takes annotated assemblies in GFF3 format as input. The files must include the nucleotide sequence at the end of the file, and to make it easier for you to identify where genes came from, each input file should have a unique locus tag for the gene IDs.\n",
    "\n",
    "All GFF3 files created by Prokka are valid with Roary and therefore this is the recommended way of generating the input files. We are now going to look closer at how you can use Prokka to annotate your genomes.\n",
    "\n",
    "## Annotation\n",
    "Prokka is a tool that performs whole genome annotation. It is easy to install and use and as mentioned the GFF files that it outputs are compatible with Roary.\n",
    "\n",
    "Our three assembled *S. pneumoniae* genomes are located in a directory called \"assemblies\"."
   ]
  },
  {
   "cell_type": "code",
   "execution_count": null,
   "metadata": {},
   "outputs": [],
   "source": [
    "ls assemblies"
   ]
  },
  {
   "cell_type": "markdown",
   "metadata": {},
   "source": [
    "To run Prokka on a single file using the default settings, you can use the following command:\n",
    "\n",
    "    prokka sample1.fasta\n",
    "\n",
    "If you have a lot of assemblies that you want to analyse, running this for each sample will soon become tedious. Instead, we will use a for-loop to run Prokka on all the fasta files in the assemblies directory. We will also use the following options for Prokka:\n",
    "\n",
    "|Option    |Description                                |\n",
    "|------    |-----------                                |\n",
    "|--locustag|Specifying a locus tag prefix              |\n",
    "|--outdir  |Specifying a directory to put the output in|\n",
    "|--prefix  |Specifying a prefix for the output files   |\n",
    "\n",
    "By specifying a unique locus tag we make it easier to identify which sample different genes came from when we look at the results from Roary. The outdir and prefix options will make it easier for us to keep track of our files. "
   ]
  },
  {
   "cell_type": "code",
   "execution_count": null,
   "metadata": {},
   "outputs": [],
   "source": [
    "for F in assemblies/*.fasta; do FILE=${F##*/}; PREFIX=${FILE/.fasta/}; \\\n",
    "    prokka --locustag $PREFIX --outdir annotated_$PREFIX \\\n",
    "    --prefix $PREFIX $F; done"
   ]
  },
  {
   "cell_type": "markdown",
   "metadata": {},
   "source": [
    "This is going to take around 5 minutes or longer to run, so be patient.\n",
    "\n",
    "Once this has finished, you should have three new directories called annotated_sample1, annotated_sample2 and annotated_sample3. Have a look to see that it worked:"
   ]
  },
  {
   "cell_type": "code",
   "execution_count": null,
   "metadata": {},
   "outputs": [],
   "source": [
    "ls -l"
   ]
  },
  {
   "cell_type": "code",
   "execution_count": null,
   "metadata": {},
   "outputs": [],
   "source": [
    "ls -l annotated_sample1"
   ]
  },
  {
   "cell_type": "markdown",
   "metadata": {},
   "source": [
    "As you can see, for sample1 we now have a number of annotation files. There is more information about the different output files, along with information about other usage options, on the [Prokka GitHub page (https://github.com/tseemann/prokka)](https://github.com/tseemann/prokka). For now, we are only interrested in the GFF files that were generated as this is what we are going to use as input for Roary.\n",
    "\n",
    "\n",
    "## Check your understanding\n",
    "**Q3: Why do we need to run Prokka?**  \n",
    "a) It will perform QC on our data  \n",
    "b) It will annotate our data  \n",
    "c) We don't, Roary can handle fasta files as input  \n",
    "  \n",
    "**Q4: Why do we use the --locustag option when we run Prokka?**  \n",
    "a) To make it easier to keep track of the output files  \n",
    "b) Because Roary won't work without it  \n",
    "c) To make the Roary results easier to interpret  \n",
    "\n",
    "Now continue to the next section of the tutorial: [Performing QC on your data](qc.ipynb)."
   ]
  }
 ],
 "metadata": {
  "kernelspec": {
   "display_name": "Bash",
   "language": "bash",
   "name": "bash"
  },
  "language_info": {
   "codemirror_mode": "shell",
   "file_extension": ".sh",
   "mimetype": "text/x-sh",
   "name": "bash"
  }
 },
 "nbformat": 4,
 "nbformat_minor": 2
}
